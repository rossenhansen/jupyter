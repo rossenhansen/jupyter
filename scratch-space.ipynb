{
 "cells": [
  {
   "cell_type": "code",
   "execution_count": 2,
   "metadata": {},
   "outputs": [
    {
     "name": "stdout",
     "output_type": "stream",
     "text": "it's true\n"
    }
   ],
   "source": [
    "if True:\n",
    "    print(\"it's true\")"
   ]
  },
  {
   "cell_type": "code",
   "execution_count": 3,
   "metadata": {},
   "outputs": [
    {
     "name": "stdout",
     "output_type": "stream",
     "text": "Drink some milk\nHave some pasta\nTake a break\n"
    }
   ],
   "source": [
    "import random\n",
    "hunger = 1\n",
    "while True:\n",
    "    if hunger == 1:\n",
    "        print(\"Drink some milk\")\n",
    "        hunger = random.randint(2,5)\n",
    "    elif hunger == 2:\n",
    "        print(\"Eat some fish\")\n",
    "        hunger = random.randint(3,5)\n",
    "    elif hunger == 3:\n",
    "        print(\"Have some pasta\")\n",
    "        hunger = random.randint(4,5)\n",
    "    elif hunger == 4:\n",
    "        print(\"Eat a cow\")\n",
    "        hunger = 5\n",
    "    else:\n",
    "        print(\"Take a break\")\n",
    "        break"
   ]
  },
  {
   "cell_type": "code",
   "execution_count": 4,
   "metadata": {},
   "outputs": [
    {
     "name": "stdout",
     "output_type": "stream",
     "text": "do\nthis\nlist\nof\nstuff\n"
    }
   ],
   "source": [
    "my_iterable = ['do','this','list','of','stuff']\n",
    "for item in my_iterable:\n",
    "    print(item)"
   ]
  },
  {
   "cell_type": "code",
   "execution_count": 5,
   "metadata": {},
   "outputs": [
    {
     "name": "stdout",
     "output_type": "stream",
     "text": "0 is neither even nor odd\n1 id an odd number\n2 is an even number\n3 id an odd number\n4 is an even number\n5 id an odd number\n6 is an even number\n7 id an odd number\n8 is an even number\n9 id an odd number\n10 is an even number\n"
    }
   ],
   "source": [
    "my_list = [0,1,2,3,4,5,6,7,8,9,10]\n",
    "for num in my_list:\n",
    "    if num == 0:\n",
    "        print(f'{num} is neither even nor odd')\n",
    "    elif num%2 == 0:\n",
    "        print(f'{num} is an even number')\n",
    "    else:\n",
    "        print(f'{num} id an odd number')"
   ]
  },
  {
   "cell_type": "code",
   "execution_count": 6,
   "metadata": {},
   "outputs": [
    {
     "name": "stdout",
     "output_type": "stream",
     "text": "0\n1\n3\n6\n10\n15\n21\n28\n36\n45\n55\n"
    }
   ],
   "source": [
    "list_sum = 0\n",
    "for num in my_list:\n",
    "    list_sum = list_sum + num \n",
    "    print(list_sum)"
   ]
  },
  {
   "cell_type": "code",
   "execution_count": 7,
   "metadata": {},
   "outputs": [
    {
     "name": "stdout",
     "output_type": "stream",
     "text": "H\ne\nl\nl\no\n \nW\no\nr\nl\nd\n"
    }
   ],
   "source": [
    "for letter in 'Hello World':\n",
    "    print(letter)"
   ]
  },
  {
   "cell_type": "code",
   "execution_count": 8,
   "metadata": {},
   "outputs": [
    {
     "name": "stdout",
     "output_type": "stream",
     "text": "1\n2\n3\n4\n5\n6\n7\n8\n"
    }
   ],
   "source": [
    "my_list_of_tuples = [(1,2),(3,4),(5,6),(7,8)]\n",
    "for a,b in my_list_of_tuples:\n",
    "    print(a)\n",
    "    print(b)"
   ]
  },
  {
   "cell_type": "code",
   "execution_count": 9,
   "metadata": {},
   "outputs": [
    {
     "name": "stdout",
     "output_type": "stream",
     "text": "k1 has the value = 1\nk2 has the value = 2\nk3 has the value = 3\nk4 has the value = 4\nk5 has the value = 5\n"
    }
   ],
   "source": [
    "d = {'k1': 1,'k2': 2,'k3': 3,'k4': 4,'k5': 5 }\n",
    "for key,value in d.items():\n",
    "    print(f'{key} has the value = {value}') "
   ]
  },
  {
   "cell_type": "code",
   "execution_count": 10,
   "metadata": {},
   "outputs": [
    {
     "name": "stdout",
     "output_type": "stream",
     "text": "Have some pasta\nTake a break\n"
    }
   ],
   "source": [
    "import random\n",
    "hunger = random.randint(1,4)\n",
    "while hunger < 5:\n",
    "    if hunger == 1:\n",
    "        print(\"Drink some milk\")\n",
    "        hunger = random.randint(1,5)\n",
    "    elif hunger == 2:\n",
    "        print(\"Eat some fish\")\n",
    "        hunger = random.randint(2,5)\n",
    "    elif hunger == 3:\n",
    "        print(\"Have some pasta\")\n",
    "        hunger = random.randint(3,5)\n",
    "    elif hunger == 4:\n",
    "        print(\"Eat a cow\")\n",
    "        hunger += 1\n",
    "else:\n",
    "    print(\"Take a break\")"
   ]
  },
  {
   "cell_type": "code",
   "execution_count": 11,
   "metadata": {},
   "outputs": [
    {
     "name": "stdout",
     "output_type": "stream",
     "text": "1\n2\n3\n4\n5\n6\n7\n8\n9\n"
    }
   ],
   "source": [
    "i = 0\n",
    "while i < 9:\n",
    "    i+=1\n",
    "    if i%3 == 0:\n",
    "        pass\n",
    "    print(i)\n"
   ]
  },
  {
   "cell_type": "code",
   "execution_count": 12,
   "metadata": {},
   "outputs": [
    {
     "name": "stdout",
     "output_type": "stream",
     "text": "1\n2\n4\n5\n7\n8\n"
    }
   ],
   "source": [
    "i = 0\n",
    "while i < 9:\n",
    "    i+=1\n",
    "    if i%3 == 0:\n",
    "        continue\n",
    "    print(i)"
   ]
  },
  {
   "cell_type": "code",
   "execution_count": 13,
   "metadata": {},
   "outputs": [
    {
     "name": "stdout",
     "output_type": "stream",
     "text": "0\n2\n4\n6\n8\n"
    }
   ],
   "source": [
    "for num in range(0,10,2):\n",
    "    print(num)"
   ]
  },
  {
   "cell_type": "code",
   "execution_count": 14,
   "metadata": {},
   "outputs": [
    {
     "name": "stdout",
     "output_type": "stream",
     "text": "abcdefg is the word\n\nMethod 1: Looping through\nAt index 0 the letter is a\nAt index 1 the letter is b\nAt index 2 the letter is c\nAt index 3 the letter is d\nAt index 4 the letter is e\nAt index 5 the letter is f\nAt index 6 the letter is g\n\nMethod 2: Enumerate\n(0, 'a')\n(1, 'b')\n(2, 'c')\n(3, 'd')\n(4, 'e')\n(5, 'f')\n(6, 'g')\n\nMethod 3: Declare the tuple and enumeratre\nAt index 0 the letter is a\nAt index 1 the letter is b\nAt index 2 the letter is c\nAt index 3 the letter is d\nAt index 4 the letter is e\nAt index 5 the letter is f\nAt index 6 the letter is g\n"
    }
   ],
   "source": [
    "word = 'abcdefg'\n",
    "print(f'{word} is the word')\n",
    "index_count = 0\n",
    "print()\n",
    "print('Method 1: Looping through')\n",
    "for letter in 'abcdefg':\n",
    "    print('At index {} the letter is {}'.format(index_count,letter))\n",
    "    index_count += 1\n",
    "print()\n",
    "print('Method 2: Enumerate')    \n",
    "for item in enumerate(word):\n",
    "    print(item)\n",
    "print()\n",
    "print('Method 3: Declare the tuple and enumeratre')    \n",
    "for index,letter in enumerate(word):\n",
    "    print(f'At index {index} the letter is {letter}')    "
   ]
  },
  {
   "cell_type": "code",
   "execution_count": 15,
   "metadata": {},
   "outputs": [
    {
     "name": "stdout",
     "output_type": "stream",
     "text": "(1, '6', 12, 'one')\n(2, '7', 13, 'two')\n(3, '8', 14, 'three')\n"
    }
   ],
   "source": [
    "l1 = [1,2,3,4,5]\n",
    "l2 = '67890'\n",
    "l3 = (12,13,14)\n",
    "d = {'k1':'one' ,'k2':'two' ,'k3':'three' }\n",
    "for i in zip(l1,l2,l3,d.values()):\n",
    "    print(i)"
   ]
  },
  {
   "cell_type": "code",
   "execution_count": 16,
   "metadata": {},
   "outputs": [
    {
     "data": {
      "text/plain": "True"
     },
     "execution_count": 16,
     "metadata": {},
     "output_type": "execute_result"
    }
   ],
   "source": [
    "'mykey' in { 'mykey': 123 }"
   ]
  },
  {
   "cell_type": "code",
   "execution_count": 17,
   "metadata": {},
   "outputs": [
    {
     "data": {
      "text/plain": "True"
     },
     "execution_count": 17,
     "metadata": {},
     "output_type": "execute_result"
    }
   ],
   "source": [
    "123 in { 'mykey': 123 }.values()"
   ]
  },
  {
   "cell_type": "code",
   "execution_count": 18,
   "metadata": {},
   "outputs": [
    {
     "name": "stdout",
     "output_type": "stream",
     "text": "[1, 2, 3, 4, 5] is my list\n[2, 5, 1, 3, 4] has been shuffled 1 times\n[2, 1, 3, 5, 4] has been shuffled 2 times\n[4, 3, 2, 1, 5] has been shuffled 3 times\n[3, 4, 5, 2, 1] has been shuffled 4 times\n[3, 2, 5, 4, 1] has been shuffled 5 times\n[5, 3, 4, 1, 2] has been shuffled 6 times\n"
    }
   ],
   "source": [
    "from random import shuffle\n",
    "my_list = [1,2,3,4,5]\n",
    "i = 0\n",
    "print(f'{my_list} is my list')\n",
    "while my_list[0] != 5:\n",
    "    i+=1\n",
    "    shuffle(my_list)\n",
    "    print(f'{my_list} has been shuffled {i} times')"
   ]
  },
  {
   "cell_type": "code",
   "execution_count": 19,
   "metadata": {},
   "outputs": [
    {
     "ename": "StdinNotImplementedError",
     "evalue": "raw_input was called, but this frontend does not support input requests.",
     "output_type": "error",
     "traceback": [
      "\u001b[1;31m---------------------------------------------------------------------------\u001b[0m",
      "\u001b[1;31mStdinNotImplementedError\u001b[0m                  Traceback (most recent call last)",
      "\u001b[1;32m<ipython-input-19-b4a04fd0f371>\u001b[0m in \u001b[0;36m<module>\u001b[1;34m\u001b[0m\n\u001b[0;32m      9\u001b[0m \u001b[1;32mwhile\u001b[0m \u001b[0mpick\u001b[0m \u001b[1;33m!=\u001b[0m \u001b[0mnum\u001b[0m\u001b[1;33m:\u001b[0m\u001b[1;33m\u001b[0m\u001b[1;33m\u001b[0m\u001b[0m\n\u001b[0;32m     10\u001b[0m     \u001b[0mi\u001b[0m \u001b[1;33m+=\u001b[0m \u001b[1;36m1\u001b[0m\u001b[1;33m\u001b[0m\u001b[1;33m\u001b[0m\u001b[0m\n\u001b[1;32m---> 11\u001b[1;33m     \u001b[0mpick\u001b[0m \u001b[1;33m=\u001b[0m \u001b[0mint\u001b[0m\u001b[1;33m(\u001b[0m\u001b[0minput\u001b[0m\u001b[1;33m(\u001b[0m\u001b[1;34mf'Pick an integer between {low} and {high}: '\u001b[0m\u001b[1;33m)\u001b[0m\u001b[1;33m)\u001b[0m\u001b[1;33m\u001b[0m\u001b[1;33m\u001b[0m\u001b[0m\n\u001b[0m\u001b[0;32m     12\u001b[0m     \u001b[1;32mif\u001b[0m \u001b[0mi\u001b[0m \u001b[1;33m>\u001b[0m \u001b[1;36m3\u001b[0m \u001b[1;32mand\u001b[0m \u001b[0mlen\u001b[0m\u001b[1;33m(\u001b[0m\u001b[0mprimes\u001b[0m\u001b[1;33m)\u001b[0m \u001b[1;33m!=\u001b[0m \u001b[1;36m0\u001b[0m\u001b[1;33m:\u001b[0m\u001b[1;33m\u001b[0m\u001b[1;33m\u001b[0m\u001b[0m\n\u001b[0;32m     13\u001b[0m         \u001b[0mshuffle\u001b[0m\u001b[1;33m(\u001b[0m\u001b[0mprimes\u001b[0m\u001b[1;33m)\u001b[0m\u001b[1;33m\u001b[0m\u001b[1;33m\u001b[0m\u001b[0m\n",
      "\u001b[1;32m~\\AppData\\Roaming\\Python\\Python37\\site-packages\\ipykernel\\kernelbase.py\u001b[0m in \u001b[0;36mraw_input\u001b[1;34m(self, prompt)\u001b[0m\n\u001b[0;32m    852\u001b[0m         \u001b[1;32mif\u001b[0m \u001b[1;32mnot\u001b[0m \u001b[0mself\u001b[0m\u001b[1;33m.\u001b[0m\u001b[0m_allow_stdin\u001b[0m\u001b[1;33m:\u001b[0m\u001b[1;33m\u001b[0m\u001b[1;33m\u001b[0m\u001b[0m\n\u001b[0;32m    853\u001b[0m             raise StdinNotImplementedError(\n\u001b[1;32m--> 854\u001b[1;33m                 \u001b[1;34m\"raw_input was called, but this frontend does not support input requests.\"\u001b[0m\u001b[1;33m\u001b[0m\u001b[1;33m\u001b[0m\u001b[0m\n\u001b[0m\u001b[0;32m    855\u001b[0m             )\n\u001b[0;32m    856\u001b[0m         return self._input_request(str(prompt),\n",
      "\u001b[1;31mStdinNotImplementedError\u001b[0m: raw_input was called, but this frontend does not support input requests."
     ]
    }
   ],
   "source": [
    "import random\n",
    "low = 3\n",
    "high = 341\n",
    "pick = high + 1\n",
    "num = random.randint(low,high)\n",
    "primes = [2, 3, 5, 7, 11, 13, 17, 19, 23, 29, 31]\n",
    "#primes = [2, 3, 5, 7, 11, 13, 17, 19, 23, 29, 31, 37, 41, 43, 47, 53, 59, 61, 67, 71, 73, 79, 83, 89, 97]\n",
    "i = 0\n",
    "while pick != num:\n",
    "    i += 1\n",
    "    pick = int(input(f'Pick an integer between {low} and {high}: '))\n",
    "    if i > 3 and len(primes) != 0:\n",
    "        shuffle(primes)\n",
    "        m = primes.pop(0)\n",
    "        while m > num:\n",
    "            shuffle(primes)\n",
    "            m = primes.pop(0)\n",
    "        if num%m == 0:\n",
    "            print(f'My number is divisable by {m}')\n",
    "        else:\n",
    "            print(f'My number is not divisable by {m}')\n",
    "    elif i == 11 and len(primes) == 0:\n",
    "        print(f'My number squared is {num**2}')\n",
    "    elif i == 15 and len(primes) == 0:\n",
    "        print(f'Triple my number is {num*3}')\n",
    "    elif i == 21 and len(primes) == 0:\n",
    "        print(f'Double my number is {num*2}')\n",
    "    if pick > num:\n",
    "        print(f'your guess of {pick} is too high')\n",
    "        high = int(pick)\n",
    "    elif int(pick) < num:  \n",
    "        print(f'your guess of {pick} is too low')\n",
    "        low = int(pick)\n",
    "    else:\n",
    "        print(f'your guess of {pick} is just right; shame it took you {i} guesses')"
   ]
  },
  {
   "cell_type": "code",
   "execution_count": 0,
   "metadata": {},
   "outputs": [],
   "source": [
    "my_string = 'Hello'\n",
    "my_list = []\n",
    "for l in my_string:\n",
    "    my_list.append(l)\n",
    "print(my_list)\n",
    "my_beller_list = [l for l in my_string]\n",
    "print(my_beller_list)"
   ]
  },
  {
   "cell_type": "code",
   "execution_count": 0,
   "metadata": {},
   "outputs": [],
   "source": [
    "thirteens = [n for n in range(0,100) if n%13==0]\n",
    "thirteens"
   ]
  },
  {
   "cell_type": "code",
   "execution_count": 0,
   "metadata": {},
   "outputs": [],
   "source": [
    "import math\n",
    "celcius = [n for n in range(0,105,7)]\n",
    "farenheit = [round((9/5)*temp + 32,1) for temp in celcius]\n",
    "print('(Celcius ,Farenheit)')\n",
    "for i in zip(celcius,farenheit):\n",
    "    print(i)"
   ]
  },
  {
   "cell_type": "code",
   "execution_count": 0,
   "metadata": {},
   "outputs": [],
   "source": [
    "my_list = []\n",
    "for x in [2,4,6]:\n",
    "    for y in [1,10,100,1000]:\n",
    "        my_list.append(x*y)\n",
    "print(my_list)\n",
    "my_better_list = [x*y for x in [2,4,6] for y in [1,10,100,1000]]\n",
    "print(my_better_list)"
   ]
  },
  {
   "cell_type": "code",
   "execution_count": 0,
   "metadata": {},
   "outputs": [],
   "source": [
    "my_list = [1,2,3]\n",
    "m = my_list.pop(0)\n",
    "print(f'{m} has been removed from {my_list})"
   ]
  },
  {
   "cell_type": "code",
   "execution_count": 0,
   "metadata": {},
   "outputs": [],
   "source": [
    "# programming language list\n",
    "language = ['Python', 'Java', 'C++', 'French', 'C']\n",
    "\n",
    "# Return value from pop()\n",
    "# When 3 is passed\n",
    "return_value = language.pop(3)\n",
    "print('Return Value: ', return_value)\n",
    "\n",
    "# Updated List\n",
    "print('Updated List: ', language)"
   ]
  },
  {
   "cell_type": "code",
   "execution_count": 0,
   "metadata": {},
   "outputs": [],
   "source": [
    "num = 13\n",
    "sq = num**2\n",
    "print(f'My number squared is {num**2}')"
   ]
  },
  {
   "cell_type": "code",
   "execution_count": 0,
   "metadata": {},
   "outputs": [],
   "source": [
    "num = 13714\n",
    "x = 0\n",
    "list_x = []\n",
    "list_x = [x+int(d) for d in str(num)]\n",
    "x = sum(list_x)\n",
    "print(x)"
   ]
  },
  {
   "cell_type": "code",
   "execution_count": 0,
   "metadata": {},
   "outputs": [],
   "source": [
    "num = 13714\n",
    "x = sum([int(d) for d in str(num)])\n",
    "l = len([int(d) for d in str(num)])\n",
    "print(x)\n",
    "print(l)"
   ]
  },
  {
   "cell_type": "code",
   "execution_count": 0,
   "metadata": {},
   "outputs": [],
   "source": [
    "f = [0, 1, 2, 3, 5, 8, 13, 21, 34, 55, 89, 144]\n",
    "s = 0\n",
    "print(f'Adding each element from {f}')\n",
    "while len(f) != 0:\n",
    "    g = f.pop(0)\n",
    "    s += g\n",
    "    print(f'plus {g} sums to {s} leaving {f}')"
   ]
  },
  {
   "cell_type": "code",
   "execution_count": 0,
   "metadata": {},
   "outputs": [],
   "source": [
    "import random\n",
    "i = 3\n",
    "j = [1,2,3,4,5,6,7]\n",
    "m = random.randint(1,4)\n",
    "l = len(j)*m+i\n",
    "s = [n for n in range(i,l,m)]\n",
    "q = []\n",
    "print(f'l = {l}; m = {m}; s = {s}')"
   ]
  },
  {
   "cell_type": "code",
   "execution_count": 0,
   "metadata": {},
   "outputs": [],
   "source": [
    "import random\n",
    "s = [i+random.randint(-1,2) for i in range (3,30,3)]\n",
    "t = [i for i in range (3,30,3)]\n",
    "print(s)\n",
    "print(t)"
   ]
  },
  {
   "cell_type": "code",
   "execution_count": 0,
   "metadata": {},
   "outputs": [],
   "source": [
    "import time\n",
    "time.time()"
   ]
  },
  {
   "cell_type": "code",
   "execution_count": 0,
   "metadata": {},
   "outputs": [],
   "source": [
    "import datetime, time\n",
    "datetime.datetime.fromtimestamp(time.time()).strftime('%Y-%m-%d %H:%M:%S')"
   ]
  },
  {
   "cell_type": "code",
   "execution_count": 0,
   "metadata": {},
   "outputs": [],
   "source": [
    "import time, random\n",
    "s = time.time()\n",
    "time.sleep(10)\n",
    "time.time() - s"
   ]
  },
  {
   "cell_type": "code",
   "execution_count": 0,
   "metadata": {},
   "outputs": [],
   "source": [
    "def fibonacci(n, first=0, second=1):\n",
    "    for _ in range(n):\n",
    "        print(first) \n",
    "        first, second = second, first + second\n",
    "fibonacci(100)"
   ]
  },
  {
   "cell_type": "code",
   "execution_count": 0,
   "metadata": {},
   "outputs": [],
   "source": [
    "# Stock price problem: \n",
    "# Give a stock_prices list of the price each minute what's the most I can make without shorting and without\n",
    "# buying and selling in the same step? (At least 1 minute must pass between a buy and a sell.)\n",
    "\n",
    "stock_prices = [10, 7, 5, 8, 11, 9]\n",
    "max_profit = 0\n",
    "i = 0\n",
    "\n",
    "# Go through every time\n",
    "for outer_time in range(len(stock_prices)):\n",
    "    # For every time, go through every other time\n",
    "    for inner_time in range(len(stock_prices)):\n",
    "        i += 1\n",
    "        # For each pair, find the earlier and later times\n",
    "        earlier_time = min(outer_time, inner_time)\n",
    "        later_time   = max(outer_time, inner_time)\n",
    "        \n",
    "        # And use those to find the earlier and later prices\n",
    "        earlier_price = stock_prices[earlier_time]\n",
    "        later_price   = stock_prices[later_time]\n",
    "\n",
    "        # See what our profit would be if we bought at the\n",
    "        # earlier price and sold at the later price\n",
    "        potential_profit = later_price - earlier_price\n",
    "\n",
    "        # Update max_profit if we can do better\n",
    "        max_profit = max(max_profit, potential_profit)\n",
    "        \n",
    "print(f'The most you can make is {max_profit}; steps {i}')"
   ]
  },
  {
   "cell_type": "code",
   "execution_count": 0,
   "metadata": {},
   "outputs": [],
   "source": [
    "# Stock price problem: \n",
    "# Give a stock_prices list of the price each minute what's the most I can make without shorting and without\n",
    "# buying and selling in the same step? (At least 1 minute/interval must pass between a buy and a sell.)\n",
    "\n",
    "stock_prices = [10, 7, 5, 8, 11, 9]\n",
    "# stock_prices = [13, 7, 5, 5, 11, 9]\n",
    "# stock_prices = [13, 7, 5, 4, 3, 2]\n",
    "max_profit = 0\n",
    "trade = ['no trade']\n",
    "\n",
    "# quick lazy calc\n",
    "if stock_prices.index(min(stock_prices))+1 < stock_prices.index(max(stock_prices)):\n",
    "    max_profit = max(stock_prices) - min(stock_prices)\n",
    "    trade = 'a ' + str(min(stock_prices)) + ' buy at ' + str(stock_prices.index(min(stock_prices))) + ' minute(s) with a ' + str(max(stock_prices)) + ' sell at ' + str(stock_prices.index(max(stock_prices))) + ' minutes'\n",
    "    i = 0\n",
    "# do the work    \n",
    "else:\n",
    "    for i in range(len(stock_prices)-1):\n",
    "        if max(stock_prices[i+1:]) > stock_prices[i]:\n",
    "            max_profit = max(max_profit,max(stock_prices[i+1:]) - stock_prices[i])\n",
    "            if max_profit == max(stock_prices[i+1:]) - stock_prices[i]:\n",
    "                trade = 'a ' + str(stock_prices[i]) + ' buy at ' + str(stock_prices.index(stock_prices[i])) + ' minute(s) with a ' + str(max(stock_prices[i+1:])) + ' sell at ' + str(stock_prices.index(max(stock_prices[i+1:]))) + ' minutes'\n",
    "print(f'The most you can make is {max_profit} on { trade }; steps {i+1}')\n"
   ]
  },
  {
   "cell_type": "code",
   "execution_count": 0,
   "metadata": {},
   "outputs": [],
   "source": [
    "def square(num):\n",
    "    return num**2"
   ]
  },
  {
   "cell_type": "code",
   "execution_count": 0,
   "metadata": {},
   "outputs": [],
   "source": [
    "mynums = [1,2,3,4,5,6]"
   ]
  },
  {
   "cell_type": "code",
   "execution_count": 0,
   "metadata": {},
   "outputs": [],
   "source": [
    "for squared in map(square,mynums):\n",
    "    print(squared)"
   ]
  },
  {
   "cell_type": "code",
   "execution_count": 0,
   "metadata": {},
   "outputs": [],
   "source": [
    "for out in zip(my_nums,list(map(square,mynums))):\n",
    "    print(out)"
   ]
  },
  {
   "cell_type": "code",
   "execution_count": 0,
   "metadata": {},
   "outputs": [],
   "source": [
    "list(map(lambda num:num**2,mynums))"
   ]
  },
  {
   "cell_type": "code",
   "execution_count": 0,
   "metadata": {},
   "outputs": [],
   "source": [
    "list(filter(lambda num:num%2 == 0,mynums))"
   ]
  },
  {
   "cell_type": "code",
   "execution_count": 0,
   "metadata": {},
   "outputs": [],
   "source": [
    "st = 'Print words that start with an s in this short sentence.'\n",
    "for w in st.split():\n",
    "    if w[0].lower() == 's':\n",
    "        print(w)"
   ]
  },
  {
   "cell_type": "code",
   "execution_count": 0,
   "metadata": {},
   "outputs": [],
   "source": [
    "for n in range(0,11):\n",
    "    print(n)"
   ]
  },
  {
   "cell_type": "code",
   "execution_count": 0,
   "metadata": {},
   "outputs": [],
   "source": [
    "for n in range(0,101):\n",
    "    if n == 0:\n",
    "        print(0)\n",
    "    elif n%15 == 0:\n",
    "        print(\"FizzBuzz\")\n",
    "    elif n%3 == 0:\n",
    "        print(\"Fizz\")\n",
    "    elif n%5 == 0:\n",
    "        print(\"Buzz\")\n",
    "    else: \n",
    "        print(n)"
   ]
  },
  {
   "cell_type": "code",
   "execution_count": 0,
   "metadata": {},
   "outputs": [],
   "source": [
    "st = \"Print even for every word in this sentence with an even number of characters\"\n",
    "i = 0\n",
    "c = 0\n",
    "for l in st.split():\n",
    "    i +=1\n",
    "    if len(l)%2 == 0:\n",
    "        c +=1\n",
    "        print(f'Word number {i} is even. Even count = {c}')"
   ]
  },
  {
   "cell_type": "code",
   "execution_count": 0,
   "metadata": {},
   "outputs": [],
   "source": [
    "st = \"Create a list of all the first letters in this string\"\n",
    "l = [w[0] for w in st.split()]\n",
    "print(l)"
   ]
  },
  {
   "cell_type": "code",
   "execution_count": 1,
   "metadata": {},
   "outputs": [
    {
     "name": "stdout",
     "output_type": "stream",
     "text": "[0, 2, 4, 6, 8, 10]\n"
    }
   ],
   "source": [
    "print(list(range(0,11,2)))"
   ]
  },
  {
   "cell_type": "code",
   "execution_count": 0,
   "metadata": {},
   "outputs": [],
   "source": [
    "def greeting(name='Who?'):\n",
    "    '''\n",
    "    DOCSTRING\" This function returns the greeting Hello {name}\n",
    "    INPUT: name\n",
    "    OUTPUT: Hello {name} \n",
    "    '''\n",
    "    return 'Hello '+name"
   ]
  },
  {
   "cell_type": "code",
   "execution_count": 0,
   "metadata": {},
   "outputs": [],
   "source": [
    "print(greeting('Miles'))"
   ]
  },
  {
   "cell_type": "code",
   "execution_count": 0,
   "metadata": {},
   "outputs": [],
   "source": [
    "help(greeting)"
   ]
  },
  {
   "cell_type": "code",
   "execution_count": 0,
   "metadata": {},
   "outputs": [],
   "source": [
    "result = greeting('Miles')\n",
    "print(result)"
   ]
  },
  {
   "cell_type": "code",
   "execution_count": 0,
   "metadata": {},
   "outputs": [],
   "source": [
    "def lesser_of_two_evens(a,b):\n",
    "    if a%2+b%2 == 0:\n",
    "        return min(a,b)\n",
    "    return max(a,b)"
   ]
  },
  {
   "cell_type": "code",
   "execution_count": 0,
   "metadata": {},
   "outputs": [],
   "source": [
    "print(lesser_of_two_evens(2,4))\n",
    "print(lesser_of_two_evens(2,5))"
   ]
  },
  {
   "cell_type": "code",
   "execution_count": 0,
   "metadata": {},
   "outputs": [],
   "source": [
    "def animal_crackers(text):\n",
    "    return min(l[0].lower() for l in text.split()) == max(l[0].lower() for l in text.split())"
   ]
  },
  {
   "cell_type": "code",
   "execution_count": 0,
   "metadata": {},
   "outputs": [],
   "source": [
    "animal_crackers('Cool Cat shew')"
   ]
  },
  {
   "cell_type": "code",
   "execution_count": 0,
   "metadata": {},
   "outputs": [],
   "source": [
    "a = [1,2,3,4,5]\n",
    "print(a[2:3])"
   ]
  },
  {
   "cell_type": "code",
   "execution_count": 0,
   "metadata": {},
   "outputs": [],
   "source": [
    "def myfunc(text):\n",
    "    i = 1\n",
    "    word = ''\n",
    "    for l in text.lower():\n",
    "        if i%2 == 0:\n",
    "            l = l.upper()\n",
    "        i +=1\n",
    "        word += l\n",
    "    return word"
   ]
  },
  {
   "cell_type": "code",
   "execution_count": 0,
   "metadata": {},
   "outputs": [],
   "source": [
    "myfunc('Polyamourous')"
   ]
  },
  {
   "cell_type": "code",
   "execution_count": 0,
   "metadata": {},
   "outputs": [],
   "source": [
    "class Class():\n",
    "    \n",
    "    def __init__(self,constructor_pass_in_attribute):\n",
    "        self.class_attribute = constructor_pass_in_attribute"
   ]
  },
  {
   "cell_type": "code",
   "execution_count": 0,
   "metadata": {},
   "outputs": [],
   "source": [
    "my_class = Class(constructor_pass_in_attribute='thing')"
   ]
  },
  {
   "cell_type": "code",
   "execution_count": 0,
   "metadata": {},
   "outputs": [],
   "source": [
    "my_class.class_attribute"
   ]
  },
  {
   "cell_type": "code",
   "execution_count": 0,
   "metadata": {},
   "outputs": [],
   "source": [
    "class Animal():\n",
    "\n",
    "    tree_of_life = { 'kingdom': 'Animalia' }\n",
    "    \n",
    "    def __init__(self):\n",
    "        print(f'NEW LIFE in the {Animal.tree_of_life[\"kingdom\"]} kingdom.\\n')\n",
    "    \n",
    "    def who_am_i(self):\n",
    "        print(f'I am of {Animal.tree_of_life[\"kingdom\"]}.\\n')\n",
    "        \n",
    "    def eat(self):\n",
    "        print('I am eating.\\n')\n",
    "\n",
    "              \n",
    "class Pet(Animal):\n",
    "    \n",
    "    def __init__(self,name,breed):\n",
    "        Animal.__init__(self)\n",
    "        self.name = name\n",
    "        self.breed = breed\n",
    "        self.sound = '~'\n",
    "        self.tree_of_life = Animal.tree_of_life\n",
    "        print(f'You have a pet named {self.name}.\\n')\n",
    "    \n",
    "    def speak(self,repeat = 1):\n",
    "        print((self.sound+' ')*repeat + '\\n')\n",
    "\n",
    "    def say_hello(self):\n",
    "        print(f'Say hello, {self.name}.')\n",
    "        self.speak()    \n",
    "              \n",
    "class Cat(Pet):\n",
    "    tree_of_life = {    'phylum': 'Chordata',\n",
    "                        'class': 'Mammalia',\n",
    "                        'order': 'Carnivora',\n",
    "                        'suborder': 'Feliformia',\n",
    "                        'family': 'Felidae',\n",
    "                        'subfamily': 'Felinae',\n",
    "                        'genus': 'Felis',\n",
    "                        'species': 'Felis catus',\n",
    "                        'subspecies': 'Felis catus domesticus' }\n",
    "              \n",
    "    def __init__(self,name,breed):\n",
    "        super(Cat,self).__init__(name,breed)\n",
    "        Cat.tree_of_life.update(Animal.tree_of_life)\n",
    "        self.tree_of_life = Cat.tree_of_life\n",
    "        self.sound =\"Meeoow\"\n",
    "              \n",
    "    def who_am_i(self):\n",
    "        print(f'{self.name} is a {self.breed} of {self.tree_of_life[\"subspecies\"]}, family {self.tree_of_life[\"family\"]}/{self.tree_of_life[\"subfamily\"]}, order {self.tree_of_life[\"order\"]}/{self.tree_of_life[\"suborder\"]}, class {self.tree_of_life[\"class\"]}, phylum {self.tree_of_life[\"phylum\"]} in the kingdom {self.tree_of_life[\"kingdom\"]}.\\n') \n",
    "              \n",
    "              \n",
    "class Dog(Pet):\n",
    "    tree_of_life = {    'phylum': 'Chordata',\n",
    "                        'class': 'Mammalia',\n",
    "                        'order': 'Carnivora',\n",
    "                        'family': 'Canidae',\n",
    "                        'genus': 'Canis',\n",
    "                        'species': 'Canis lupus',\n",
    "                        'subspecies': 'Canis lupus familiaris' }\n",
    "\n",
    "    def __init__(self,name,breed):\n",
    "        super(Dog,self).__init__(name,breed)\n",
    "        Dog.tree_of_life.update(Animal.tree_of_life)\n",
    "        self.tree_of_life = Dog.tree_of_life\n",
    "        self.sound =\"WOOF!\"\n",
    "        \n",
    "    def count(self):\n",
    "        count_to = int(input(f'Hello {self.name}, please count to: '))\n",
    "        self.speak(count_to)\n",
    "        \n",
    "    def who_am_i(self):\n",
    "        print(f'{self.name} is a {self.breed} of {self.tree_of_life[\"subspecies\"]}, family {self.tree_of_life[\"family\"]}, order {self.tree_of_life[\"order\"]}, class {self.tree_of_life[\"class\"]}, phylum {self.tree_of_life[\"phylum\"]} in the kingdom {self.tree_of_life[\"kingdom\"]}.\\n')"
   ]
  },
  {
   "cell_type": "code",
   "execution_count": 0,
   "metadata": {},
   "outputs": [],
   "source": [
    "my_dog = Dog(breed='greyhound',name='Georgie')\n",
    "my_dog.say_hello()\n",
    "my_dog.count()\n",
    "my_dog.who_am_i()"
   ]
  },
  {
   "cell_type": "code",
   "execution_count": 0,
   "metadata": {},
   "outputs": [],
   "source": [
    "my_cat = Cat(name='Lily',breed='British short-hair')\n",
    "my_cat.who_am_i()\n",
    "my_cat.say_hello()"
   ]
  },
  {
   "cell_type": "code",
   "execution_count": 0,
   "metadata": {},
   "outputs": [],
   "source": [
    "class Book():\n",
    "    \n",
    "    def __init__(self,title,author,pages=0):\n",
    "        self.title = title\n",
    "        self.author = author\n",
    "        self.pages = pages\n",
    "\n",
    "    def __str__(self): # returns string representation of object\n",
    "        return f\"{self.title} by {self.author}\"\n",
    "    \n",
    "    def __len__(self): # returns length of object\n",
    "        return self.pages\n",
    "    \n",
    "    def __del__(self):\n",
    "        print('A book has been deleted.')"
   ]
  },
  {
   "cell_type": "code",
   "execution_count": 0,
   "metadata": {},
   "outputs": [],
   "source": [
    "b = Book('Hitch Hikers Guide to the Galaxy','Douglas Adams',832)\n",
    "print(b)\n",
    "print(f'This book has {len(b)} pages.')\n",
    "# del b"
   ]
  },
  {
   "cell_type": "code",
   "execution_count": 0,
   "metadata": {},
   "outputs": [],
   "source": [
    "class Line:\n",
    "    \n",
    "    def __init__(self,coord1,coord2):\n",
    "        self.coord1 = coord1\n",
    "        self.coord2 = coord2\n",
    "        self.delta_x = coord2[0]-coord1[0]\n",
    "        self.delta_y = coord2[1]-coord1[1]\n",
    "    \n",
    "    def distance(self):\n",
    "        return (self.delta_x**2+self.delta_y**2)**(1/2)\n",
    "    \n",
    "    def slope(self):\n",
    "        return self.delta_y/self.delta_x\n",
    "    \n",
    "    def descibe(self):\n",
    "        print(f'My line starts at {self.coord1} and finishes at {self.coord2}.The slope of my line is {self.slope()} and its length is {self.distance()}.\\n') "
   ]
  },
  {
   "cell_type": "code",
   "execution_count": 0,
   "metadata": {},
   "outputs": [],
   "source": [
    "coordinate1 = (3,2)\n",
    "coordinate2 = (8,10)\n",
    "\n",
    "li = Line(coordinate1,coordinate2)"
   ]
  },
  {
   "cell_type": "code",
   "execution_count": 0,
   "metadata": {},
   "outputs": [],
   "source": [
    "li.descibe()"
   ]
  },
  {
   "cell_type": "code",
   "execution_count": 0,
   "metadata": {},
   "outputs": [],
   "source": [
    "li.distance()"
   ]
  },
  {
   "cell_type": "code",
   "execution_count": 0,
   "metadata": {},
   "outputs": [],
   "source": [
    "li.slope()"
   ]
  },
  {
   "cell_type": "code",
   "execution_count": 0,
   "metadata": {},
   "outputs": [],
   "source": [
    "class Cylinder:\n",
    "    import math\n",
    "    pi = math.pi\n",
    "    \n",
    "    def __init__(self,height=1,radius=1):\n",
    "        self.height = height\n",
    "        self.radius = radius\n",
    "        self.circle_area = Cylinder.pi*(self.radius**2)\n",
    "        self.circle_circumference = Cylinder.pi*2*self.radius\n",
    "        \n",
    "    def volume(self):\n",
    "        return self.circle_area*self.height\n",
    "    \n",
    "    def surface_area(self):\n",
    "        return self.circle_circumference*self.height+(2*self.circle_area)"
   ]
  },
  {
   "cell_type": "code",
   "execution_count": 0,
   "metadata": {},
   "outputs": [],
   "source": [
    "c = Cylinder(2,3)"
   ]
  },
  {
   "cell_type": "code",
   "execution_count": 0,
   "metadata": {},
   "outputs": [],
   "source": [
    "c.volume()"
   ]
  },
  {
   "cell_type": "code",
   "execution_count": 0,
   "metadata": {},
   "outputs": [],
   "source": [
    "c.surface_area()"
   ]
  },
  {
   "cell_type": "code",
   "execution_count": 0,
   "metadata": {},
   "outputs": [],
   "source": [
    "class Account:\n",
    "    \n",
    "    def __init__(self,owner,balance):\n",
    "        self.owner = owner\n",
    "        self.balance = balance\n",
    "    \n",
    "    def __str__(self):\n",
    "        return \"Account owner:   %s\\nAccount balance: $%.2f\" %(self.owner, self.balance)\n",
    "        \n",
    "    def deposit(self,deposit_amount):\n",
    "        self.deposit_amount = deposit_amount\n",
    "        self.balance += self.deposit_amount\n",
    "        print(f'Hi, {self.owner} after a deposit of ${self.deposit_amount:,.2f} you have ${self.balance:,.2f} in the bank.')\n",
    "        \n",
    "    def withdrawal(self,withdrawal_amount):\n",
    "        self.withdrawal_amount = withdrawal_amount\n",
    "        if self.withdrawal_amount > self.balance:\n",
    "            print(f'Sorry {self.owner}, you cannot withdraw ${self.withdrawal_amount:,.2f} because you only have ${self.balance:,.2f} in the bank.')\n",
    "        else:\n",
    "            self.balance -= self.withdrawal_amount\n",
    "            print(f'Hi {self.owner}, after a withdrawal of ${self.withdrawal_amount:,.2f} you have ${self.balance:,.2f} in the bank.')"
   ]
  },
  {
   "cell_type": "code",
   "execution_count": 0,
   "metadata": {},
   "outputs": [],
   "source": [
    "acct1 = Account('Jose',100)"
   ]
  },
  {
   "cell_type": "code",
   "execution_count": 0,
   "metadata": {},
   "outputs": [],
   "source": [
    "print(acct1)"
   ]
  },
  {
   "cell_type": "code",
   "execution_count": 0,
   "metadata": {},
   "outputs": [],
   "source": [
    "acct1.owner"
   ]
  },
  {
   "cell_type": "code",
   "execution_count": 0,
   "metadata": {},
   "outputs": [],
   "source": [
    "acct1.balance"
   ]
  },
  {
   "cell_type": "code",
   "execution_count": 0,
   "metadata": {},
   "outputs": [],
   "source": [
    "acct1.deposit(50)"
   ]
  },
  {
   "cell_type": "code",
   "execution_count": 0,
   "metadata": {},
   "outputs": [],
   "source": [
    "acct1.withdrawal(13.45)"
   ]
  },
  {
   "cell_type": "code",
   "execution_count": 0,
   "metadata": {},
   "outputs": [],
   "source": [
    "# manual cache\n",
    "\n",
    "# initialise cache variable \n",
    "fibonacci_cache = {} \n",
    "\n",
    "def fibonacci(n):\n",
    "        # check that input is a positive integer\n",
    "    if type(n) != int:\n",
    "        raise TypeError(\"n must me a positive integer\")\n",
    "    if n < 1:\n",
    "        raise ValueError(\"n must me a positive integer\")\n",
    "        \n",
    "    # if we have a cached value then return it\n",
    "    if n in fibonacci_cache: \n",
    "        return fibonacci_cache[n]\n",
    "    \n",
    "    # otherwise compute the nth term\n",
    "    if n == 1:\n",
    "        value = 1\n",
    "    elif n == 2:\n",
    "        value = 1\n",
    "    elif n > 2:\n",
    "        value = fibonacci(n-1)+fibonacci(n-2)\n",
    "    \n",
    "    # cache value and return it\n",
    "    fibonacci_cache[n] = value\n",
    "    return value\n",
    "\n",
    "# run it\n",
    "for n in range(1,1001):\n",
    "    print(n,fibonacci(n))"
   ]
  },
  {
   "cell_type": "code",
   "execution_count": 0,
   "metadata": {},
   "outputs": [],
   "source": [
    "#memorisation using lru_cache\n",
    "\n",
    "from functools import lru_cache\n",
    "\n",
    "@lru_cache(maxsize = 1000)\n",
    "def fibonacci(n):\n",
    "    # check that input is a positive integer\n",
    "    if type(n) != int:\n",
    "        raise TypeError(\"n must me a positive integer\")\n",
    "    if n < 1:\n",
    "        raise ValueError(\"n must me a positive integer\")\n",
    "        \n",
    "    # compute the nth term\n",
    "    if n == 1:\n",
    "        return 1\n",
    "    elif n == 2:\n",
    "        return 1\n",
    "    elif n > 2:\n",
    "        return fibonacci(n-1)+fibonacci(n-2)\n",
    "    \n",
    "# run it\n",
    "# error print(fibonacci(\"one\"))\n",
    "\n",
    "for n in range(1,11):\n",
    "    print(n,fibonacci(n))"
   ]
  },
  {
   "cell_type": "code",
   "execution_count": 0,
   "metadata": {},
   "outputs": [],
   "source": [
    "import time\n",
    "\n",
    "def is_prime_v1(n):\n",
    "    \"\"\"Return 'true' if 'n' is a prime number, else return 'false'\"\"\"\n",
    "    if n == 1:\n",
    "        return False #1 is not prime\n",
    "    \n",
    "    for d in range (2, n):\n",
    "        if n % d == 0:\n",
    "            return False\n",
    "    return True\n",
    "\n",
    "t0 = time.time()\n",
    "for n in range(1, 10000):\n",
    "    is_prime_v1(n)\n",
    "t1 = time.time()\n",
    "print(\"Time required: \",t1 - t0)"
   ]
  },
  {
   "cell_type": "code",
   "execution_count": 0,
   "metadata": {},
   "outputs": [],
   "source": [
    "import time\n",
    "import math\n",
    "\n",
    "def is_prime_v2(n):\n",
    "    \"\"\"Return 'true' if 'n' is a prime number, else return 'false'\"\"\"\n",
    "    if n == 1:\n",
    "        return False #1 is not prime\n",
    "    \n",
    "    max_divisor = math.floor(math.sqrt(n))\n",
    "    \n",
    "    for d in range (2, max_divisor+1):\n",
    "        if n % d == 0:\n",
    "            return False\n",
    "    return True\n",
    "\n",
    "for n in range(1, 11):\n",
    "    print(n,is_prime_v2(n))\n",
    "\n",
    "t0 = time.time()\n",
    "for n in range(1, 100000):\n",
    "    is_prime_v2(n)\n",
    "t1 = time.time()\n",
    "print(\"Time required: \",t1 - t0)"
   ]
  },
  {
   "cell_type": "code",
   "execution_count": 0,
   "metadata": {},
   "outputs": [],
   "source": [
    "import time\n",
    "import math\n",
    "\n",
    "def is_prime_v3(n):\n",
    "    \"\"\"Return 'true' if 'n' is a prime number, else return 'false'\"\"\"\n",
    "    if n == 1:\n",
    "        return False #1 is not prime\n",
    "    \n",
    "    # If 'n' is even and greater than 2 it is not prime\n",
    "    if n == 2:\n",
    "        return True\n",
    "    if n > 2 and n % 2 == 0:\n",
    "        return False\n",
    "    \n",
    "    max_divisor = math.floor(math.sqrt(n))\n",
    "    for d in range (3, max_divisor+1, 2):\n",
    "        if n % d == 0:\n",
    "            return False\n",
    "    return True\n",
    "\n",
    "for n in range(1, 11):\n",
    "    print(n,is_prime_v3(n))\n",
    "\n",
    "t0 = time.time()\n",
    "for n in range(1, 1000000):\n",
    "    is_prime_v3(n)\n",
    "t1 = time.time()\n",
    "print(\"Time required: \",t1 - t0)"
   ]
  },
  {
   "cell_type": "code",
   "execution_count": 0,
   "metadata": {},
   "outputs": [],
   "source": [
    "import time\n",
    "import math\n",
    "\n",
    "def is_prime(n):\n",
    "    \"\"\"Return 'true' if 'n' is a prime number, else return 'false'\"\"\"\n",
    "    if n == 1:\n",
    "        return False #1 is not prime\n",
    "    \n",
    "    # If 'n' is even and greater than 2 it is not prime\n",
    "    if n == 2:\n",
    "        return True\n",
    "    if n > 2 and n % 2 == 0:\n",
    "        return False\n",
    "    \n",
    "    max_divisor = math.floor(math.sqrt(n))\n",
    "    for d in range (3, max_divisor+1, 2):\n",
    "        if n % d == 0:\n",
    "            return False\n",
    "    return True\n",
    "\n",
    "\n",
    "a = 1\n",
    "b = 10000000\n",
    "c = 0\n",
    "t0 = time.time()\n",
    "for n in range(a,b):\n",
    "    p = is_prime(n)\n",
    "    if p:\n",
    "        c += 1\n",
    "t1 = time.time()\n",
    "print(f'There are {c:,d} primes between {a:,d} and {b:,d}. It took {t1-t0:,.5f} seconds to determine this.')"
   ]
  },
  {
   "cell_type": "code",
   "execution_count": 0,
   "metadata": {},
   "outputs": [],
   "source": [
    "for i in ['a','b','c']:\n",
    "    try:\n",
    "        print(i**2)\n",
    "    except TypeError:\n",
    "        print('Please enter a number')\n",
    "        break\n",
    "    except:\n",
    "        print('WEhat went wrong?')"
   ]
  },
  {
   "cell_type": "code",
   "execution_count": 0,
   "metadata": {},
   "outputs": [],
   "source": [
    "x = 5\n",
    "y = 3\n",
    "\n",
    "try: \n",
    "    z = x/y\n",
    "    print(f'{x} divided by {y} equals {z:,.4f}')\n",
    "except ZeroDivisionError:\n",
    "    print(f'{x} divided by {y} cannot be calculated')\n",
    "finally:\n",
    "    print('All done.')"
   ]
  },
  {
   "cell_type": "code",
   "execution_count": 0,
   "metadata": {},
   "outputs": [],
   "source": [
    "def ask():\n",
    "    while True:\n",
    "        try:\n",
    "            x = float(input(\"Please enter a number: \"))\n",
    "            print(f'Thanks, {x} squared is {x**2}.')\n",
    "            break\n",
    "        except:\n",
    "            print('That was not a number!')\n",
    "\n",
    "ask()"
   ]
  },
  {
   "cell_type": "code",
   "execution_count": 0,
   "metadata": {},
   "outputs": [],
   "source": [
    "x = float(input(\"Please enter a number: \"))\n",
    "print(f'Thanks, {x} squared is {x**2}.')"
   ]
  },
  {
   "cell_type": "code",
   "execution_count": 0,
   "metadata": {},
   "outputs": [],
   "source": [
    "def card(value):\n",
    "    top_tail = '+---+'\n",
    "    \n",
    "    middle = '| '+ str(value) +' |'\n",
    "\n",
    "    print(top_tail)\n",
    "    print(middle)\n",
    "    print(top_tail)\n",
    "\n",
    "card(['A'2,3])"
   ]
  },
  {
   "cell_type": "code",
   "execution_count": 0,
   "metadata": {},
   "outputs": [],
   "source": [
    "from colorama import Fore, Back, Style\n",
    "v = 0\n",
    "hand = [(2,'H'),(6,'D'),(9,'H'),(13,'S'),(8,'S'),(1,'D')]\n",
    "print(Back.WHITE)\n",
    "for (c,s) in hand:\n",
    "    r = ''\n",
    "    l = ' '\n",
    "    if c == 11:\n",
    "        r = '&#9812J'\n",
    "        v += 10\n",
    "    elif c == 12:\n",
    "        r = '&#9813Q'\n",
    "        v += 10\n",
    "    elif c == 13:\n",
    "        r = '&#9812K'\n",
    "        v += 10\n",
    "    else:\n",
    "        r = ('  '+str(c))[-2:]\n",
    "        l = '&#9812K'\n",
    "        v += c\n",
    "\n",
    "\n",
    "\n",
    "\n",
    "\n",
    "    if s == 'S':\n",
    "        if c == 'K' or c == 'J':\n",
    "            print(f'{Fore.BLACK} &#9812{c}&#9824 ')\n",
    "        elif c == 'Q':\n",
    "            print(f'{Fore.BLACK} &#9813{c}&#9824 ')\n",
    "        else: \n",
    "            \n",
    "            print(f'{Fore.WHITE} &#9812{Fore.BLACK}{c}&#9824 ')\n",
    "    elif  s == 'C':\n",
    "        if c == 'K' or c == 'J':\n",
    "            print(f'{Fore.BLACK} &#9812{c}&#9827 ')\n",
    "        elif c == 'Q':\n",
    "            print(f'{Fore.BLACK} &#9813{c}&#9827 ')\n",
    "        elif c == 'Q':\n",
    "            print(f'{Fore.BLACK} &#9813{c}&#9827 ')\n",
    "        else: \n",
    "            c = ('  '+str(c))[-2:]\n",
    "            print(f'{Fore.WHITE} &#9812{Fore.BLACK}{c}&#9827 ')\n",
    "    elif  s == 'H':\n",
    "        if c == 'K' or c == 'J':\n",
    "            print(f'{Fore.BLACK} &#9812{c}&#9829 ')\n",
    "        elif c == 'Q':\n",
    "            print(f'{Fore.BLACK} &#9813{c}&#9829 ')\n",
    "        else: \n",
    "            c = ('  '+str(c))[-2:]\n",
    "            print(f'{Fore.WHITE} &#9812{Fore.BLACK}{c}&#9829 ')\n",
    "    elif  s == 'D':\n",
    "        if c == 'K' or c == 'J':\n",
    "            print(f'{Fore.RED} &#9812{c}&#9830 ')\n",
    "        elif c == 'Q':\n",
    "            print(f'{Fore.RED} &#9813{c}&#9830 ')\n",
    "        else: \n",
    "            c = ('  '+str(c))[-2:]\n",
    "            print(f'{Fore.WHITE} &#9812{Fore.RED}{c}&#9830 ')\n",
    "    else:\n",
    "        continue\n",
    "\n",
    "print(Style.RESET_ALL)"
   ]
  },
  {
   "cell_type": "code",
   "execution_count": 0,
   "metadata": {},
   "outputs": [],
   "source": [
    "from colorama import Fore, Back, Style\n",
    "# import json\n",
    "\n",
    "# Suites\n",
    "H = ('\\033[31;47m','&#9829') # Hearts\n",
    "D = ('\\033[31;47m','&#9830') # Diamonds\n",
    "S = ('\\033[30;47m','&#9824') # Spades\n",
    "C = ('\\033[30;47m','&#9827') # Clubs\n",
    "\n",
    "suits = {\n",
    "\"H\": ('\\033[31;47m','&#9829'), # Hearts\n",
    "\"D\": ('\\033[31;47m','&#9830'), # Diamonds\n",
    "\"S\": ('\\033[30;47m','&#9824'), # Spades\n",
    "\"C\": ('\\033[30;47m','&#9827'), # Clubs\n",
    "}\n",
    "\n",
    "# Colorama reset\n",
    "R = ' \\033[0m' # Reset\n",
    "\n",
    "\n",
    "# S = 'S'\n",
    "# print(suits[S][1])\n",
    "\n",
    "\n",
    "# Local variables\n",
    "c = 11\n",
    "s = C\n",
    "r = ('  '+str(c))[-2:] if c <= 10  else '&#9818K' if c == 13 else '&#9812J' if c == 11 else '&#9819Q'  \n",
    "l = '\\033[37;47m' + ( '&#9823' if c <= 10  else ' ' ) \n",
    "\n",
    "print(f'Player: {l}{s[0]}{r}{s[1]}{R} {l}{s[0]}{r}{s[1]}{R} {l}{s[0]}{r}{s[1]}{R}')\n",
    "print()\n",
    "c = 12\n",
    "s = D\n",
    "r = ('  '+str(c))[-2:] if c <= 10  else '&#9818K' if c == 13 else '&#9812J' if c == 11 else '&#9819Q'  \n",
    "l = '\\033[37;47m' + ( '&#9823' if c <= 10  else ' ' ) \n",
    "p = l+s[0]+r+s[1]+R\n",
    "print(f'Dealer: {p} {p}')\n",
    "\n",
    "# h = '&#9829 '\n",
    "# r = '&#9812K'\n",
    "# l = ' '\n",
    "\n",
    "# print(Back.WHITE + Fore.WHITE + f'{l}' + Fore.RED + f'{r}{h}' + Style.RESET_ALL)\n",
    "\n",
    "#     print(f'Card: {c} of suit {s}.')\n",
    "\n",
    "\n",
    "# print(Back.WHITE)\n",
    "# print(Fore.BLACK + ' &#9812K&#9827 ')\n",
    "# print(Fore.BLACK + ' &#9812J&#9827 ')\n",
    "# print(Fore.RED + ' &#9813Q&#9829 ')\n",
    "# print(Fore.WHITE + '&#9812'+ Fore.RED +' A&#9830 ')\n",
    "# print(Fore.WHITE + '&#9812'+ Fore.RED +'10&#9830 ')\n",
    "# print(Fore.WHITE + '&#9812'+ Fore.BLACK +' 2&#9824 ')\n",
    "# print(Fore.WHITE + '&#9812'+ Fore.BLACK +' 6&#9827 ')\n",
    "# print(Style.RESET_ALL)"
   ]
  },
  {
   "cell_type": "code",
   "execution_count": 0,
   "metadata": {},
   "outputs": [],
   "source": [
    "from colorama import Fore, Back, Style\n",
    "# import json\n",
    "\n",
    "# Colorama reset\n",
    "R = ' \\033[0m' # Reset\n",
    "\n",
    "suits = {\n",
    "\"H\": ('\\033[31;47m','&#9829'), # Hearts\n",
    "\"D\": ('\\033[31;47m','&#9830'), # Diamonds\n",
    "\"S\": ('\\033[30;47m','&#9824'), # Spades\n",
    "\"C\": ('\\033[30;47m','&#9827'), # Clubs\n",
    "}\n",
    "\n",
    "# S = 'S'\n",
    "# print(suits[S][1])\n",
    "\n",
    "def hand(cards):\n",
    "    R = ' \\033[0m ' # reset colours\n",
    "    value = 0\n",
    "    print_string = ''\n",
    "    aces = 0\n",
    "    for (c,s) in cards:\n",
    "        if c == 0:\n",
    "            value += c\n",
    "            print_string += '\\033[37;40m  &#9823 '+R\n",
    "        elif c == 1:\n",
    "            value += 11\n",
    "            print_string += '\\033[37;47m&#9823'+suits[s][0]+' A'+suits[s][1]+R\n",
    "            aces += 1\n",
    "        elif c > 1 and c <= 10:\n",
    "            value += c\n",
    "            print_string += '\\033[37;47m&#9823'+suits[s][0]+('  '+str(c))[-2:]+suits[s][1]+R\n",
    "        elif c == 11:\n",
    "            value += 10\n",
    "            print_string += '\\033[37;47m '+suits[s][0]+'&#9812J'+suits[s][1]+R\n",
    "        elif c == 12:\n",
    "            value += 10\n",
    "            print_string += '\\033[37;47m '+suits[s][0]+'&#9819Q'+suits[s][1]+R        \n",
    "        elif c == 13:\n",
    "            value += 10\n",
    "            print_string += '\\033[37;47m '+suits[s][0]+'&#9818K'+suits[s][1]+R\n",
    "    while value > 21 and aces > 0:\n",
    "        value -= 10\n",
    "        aces -= 1\n",
    "    return (value,print_string)\n",
    "\n",
    "player = [(2,'H'),(7,'D'),(1,'D'),(1,'S')]\n",
    "dealer = [(13,'S'),(1,'H')]\n",
    "\n",
    "print(f'Dealer: {hand(dealer)[1]} ({hand(dealer)[0]})')\n",
    "print()\n",
    "print(f'Player: {hand(player)[1]} ({hand(player)[0]})')"
   ]
  },
  {
   "cell_type": "code",
   "execution_count": 0,
   "metadata": {},
   "outputs": [],
   "source": [
    "from colorama import Fore, Back, Style\n",
    "\n",
    "def Card(rank,suit):\n",
    "    \"\"\" Returns (print_string,value,result) for a card(rank,suit) \"\"\"\n",
    "    # Colorama settings\n",
    "    reset = ' \\033[0m ' # Reset all colours and backgrounds\n",
    "    card_face = '\\033[47m' # Set to white\n",
    "    card_back = '\\033[37;40m  \\u265f  ' # Set to black with white pawn symbol\n",
    "    card_space = '\\033[37m\\u265f'\n",
    "    # suits\n",
    "    suits = {\n",
    "    \"H\": ('\\033[31m','\\u2665'), # Hearts\n",
    "    \"D\": ('\\033[31m','\\u2666'), # Diamonds\n",
    "    \"S\": ('\\033[30m','\\u2660'), # Spades\n",
    "    \"C\": ('\\033[30m','\\u2663'), # Clubs\n",
    "    \"None\": ('\\033[37m',' '), # No suit\n",
    "    }\n",
    "    # cards\n",
    "    card_ace = ' A'\n",
    "    card_jack = ' \\u2654J'\n",
    "    card_queen = ' \\u265BQ'\n",
    "    card_king = ' \\u265AK'\n",
    "\n",
    "    def __init__(self,rank=0,suit='None')):\n",
    "        self.delt = delt\n",
    "        self.rank = delt[0]\n",
    "        self.suit = delt[0]\n",
    "        self.colour = suits[suit][0]\n",
    "        self.suit_symbol = suits[suit][1]\n",
    "        self.print_string = ''\n",
    "        self.value = 0\n",
    "\n",
    "    def display(self):\n",
    "        if self.rank >= 10:\n",
    "            self.value += 10\n",
    "        elif 2 <= self.rank <= 9: # between 2 and 10\n",
    "            card_two_nine = ' ' + str(self.rank)\n",
    "            self.print_string = ( card_face + card_space + self.colour + card_two_nine + self.suit_symbol + reset )\n",
    "        elif self.rank == 10:\n",
    "            card_ten = str(self.rank)\n",
    "            self.print_string = ( card_face + card_space + self.colour + card_ten + self.suit_symbol + reset )\n",
    "        elif self.rank == 11:\n",
    "            self.print_string = ( card_face + card_space + self.colour + card_jack + self.suit_symbol + reset )\n",
    "        elif self.rank == 12:\n",
    "            self.print_string = ( card_face + card_space + self.colour + card_queen + self.suit_symbol + reset )\n",
    "        elif self.rank == 13:\n",
    "            self.print_string = ( card_face + card_space + self.colour + card_king + self.suit_symbol + reset )\n",
    "        else:\n",
    "            self.print_string = ( card_back + reset )\n",
    "        return self.print_string\n",
    "\n",
    "    def value(self):\n",
    "        if self.rank <= 10:\n",
    "            self.value = self.rank \n",
    "        else:\n",
    "            self.value = 10\n",
    "        return self.value"
   ]
  },
  {
   "cell_type": "code",
   "execution_count": 13,
   "metadata": {},
   "outputs": [
    {
     "name": "stdout",
     "output_type": "stream",
     "text": "75\n"
    }
   ],
   "source": [
    "import math\n",
    "s = math.floor(1/4*43*7)\n",
    "print(s)"
   ]
  }
 ],
 "metadata": {
  "kernelspec": {
   "display_name": "Python 3",
   "language": "python",
   "name": "python3"
  },
  "language_info": {
   "codemirror_mode": {
    "name": "ipython",
    "version": 3
   },
   "file_extension": ".py",
   "mimetype": "text/x-python",
   "name": "python",
   "nbconvert_exporter": "python",
   "pygments_lexer": "ipython3",
   "version": "3.7.4"
  }
 },
 "nbformat": 4,
 "nbformat_minor": 2
}